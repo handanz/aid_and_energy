import pandas as pd

df = pd.read_excel(r'transactions_all_africa-all-sub-saharan-africa_energy_2002-2012')

print(df)
