{
 "cells": [
  {
   "cell_type": "code",
   "execution_count": 1,
   "metadata": {},
   "outputs": [],
   "source": [
    "import os\n",
    "import numpy as np\n",
    "import pandas as pd\n",
    "import openpyxl\n",
    "import matplotlib.pyplot as plt\n",
    "import statsmodels.api as sm\n",
    "from statsmodels.iolib.summary2 import summary_col\n",
    "from statsmodels.tsa.api import ARDL\n",
    "from statsmodels.tsa.ardl import ardl_select_order"
   ]
  },
  {
   "cell_type": "code",
   "execution_count": 2,
   "metadata": {},
   "outputs": [],
   "source": [
    "# Set directory path to current directory\n",
    "dir_path = os.path.abspath('../')\n",
    "output_path = os.path.abspath('../outputs')\n",
    "\n",
    "dat = os.path.join(dir_path, 'control_variables.xlsx')"
   ]
  },
  {
   "cell_type": "code",
   "execution_count": 3,
   "metadata": {},
   "outputs": [],
   "source": [
    "df = pd.read_excel(dat, index_col=0, sheet_name=\"data\")\n",
    "df = pd.DataFrame(df)"
   ]
  },
  {
   "cell_type": "code",
   "execution_count": 4,
   "metadata": {},
   "outputs": [
    {
     "name": "stdout",
     "output_type": "stream",
     "text": [
      "                            OLS Regression Results                            \n",
      "==============================================================================\n",
      "Dep. Variable:                  dElec   R-squared:                       0.122\n",
      "Model:                            OLS   Adj. R-squared:                  0.111\n",
      "Method:                 Least Squares   F-statistic:                     11.99\n",
      "Date:                Tue, 10 May 2022   Prob (F-statistic):           4.26e-16\n",
      "Time:                        17:17:17   Log-Likelihood:                -1054.6\n",
      "No. Observations:                 702   AIC:                             2127.\n",
      "Df Residuals:                     693   BIC:                             2168.\n",
      "Df Model:                           8                                         \n",
      "Covariance Type:            nonrobust                                         \n",
      "===========================================================================================\n",
      "                              coef    std err          t      P>|t|      [0.025      0.975]\n",
      "-------------------------------------------------------------------------------------------\n",
      "const                       0.7765      0.171      4.549      0.000       0.441       1.112\n",
      "distribution cumulative     0.0156      0.010      1.544      0.123      -0.004       0.036\n",
      "nrgen cumulative           -0.0314      0.013     -2.490      0.013      -0.056      -0.007\n",
      "policy cumulative           0.1457      0.042      3.460      0.001       0.063       0.228\n",
      "rgen cumulative             0.0209      0.015      1.354      0.176      -0.009       0.051\n",
      "dGDP                       -0.0247      0.011     -2.344      0.019      -0.045      -0.004\n",
      "dCPI                        0.0310      0.017      1.794      0.073      -0.003       0.065\n",
      "governance                  0.0030      0.004      0.788      0.431      -0.004       0.010\n",
      "trade                       0.0078      0.001      6.780      0.000       0.006       0.010\n",
      "==============================================================================\n",
      "Omnibus:                      813.768   Durbin-Watson:                   0.319\n",
      "Prob(Omnibus):                  0.000   Jarque-Bera (JB):            65529.422\n",
      "Skew:                           5.644   Prob(JB):                         0.00\n",
      "Kurtosis:                      48.966   Cond. No.                         343.\n",
      "==============================================================================\n",
      "\n",
      "Notes:\n",
      "[1] Standard Errors assume that the covariance matrix of the errors is correctly specified.\n"
     ]
    }
   ],
   "source": [
    "pooled_y=df['dElec']\n",
    "\n",
    "pooled_X=df[['distribution cumulative',\n",
    "                'nrgen cumulative',\n",
    "                'policy cumulative',\n",
    "                'rgen cumulative',\n",
    "                'dGDP',\n",
    "                'dCPI',\n",
    "                'governance',\n",
    "                'trade'               \n",
    "                ]]\n",
    "\n",
    "pooled_X = sm.add_constant(pooled_X)\n",
    "\n",
    "pooled_olsr_model = sm.OLS(endog=pooled_y, exog=pooled_X)\n",
    "# Train the model on the (y, X) data set and fetch the training results:\n",
    "\n",
    "pooled_olsr_model_results = pooled_olsr_model.fit()\n",
    "\n",
    "print(pooled_olsr_model_results.summary())"
   ]
  },
  {
   "cell_type": "code",
   "execution_count": null,
   "metadata": {},
   "outputs": [],
   "source": []
  }
 ],
 "metadata": {
  "interpreter": {
   "hash": "cd239d77895c76b1b0b6aa7af5762016a4c6e6b8e0ec894c7a726779eb4942ae"
  },
  "kernelspec": {
   "display_name": "Python 3.7.13 ('MyPythonProject')",
   "language": "python",
   "name": "python3"
  },
  "language_info": {
   "codemirror_mode": {
    "name": "ipython",
    "version": 3
   },
   "file_extension": ".py",
   "mimetype": "text/x-python",
   "name": "python",
   "nbconvert_exporter": "python",
   "pygments_lexer": "ipython3",
   "version": "3.7.13"
  },
  "orig_nbformat": 4
 },
 "nbformat": 4,
 "nbformat_minor": 2
}
