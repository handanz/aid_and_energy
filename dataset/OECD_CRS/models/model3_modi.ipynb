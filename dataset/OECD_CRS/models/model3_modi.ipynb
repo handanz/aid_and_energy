{
 "cells": [
  {
   "cell_type": "code",
   "execution_count": 9,
   "metadata": {},
   "outputs": [],
   "source": [
    "import os\n",
    "import pandas as pd\n",
    "import openpyxl\n",
    "import statsmodels.api as sm\n",
    "from statsmodels.iolib.summary2 import summary_col\n",
    "from statsmodels.iolib.table import SimpleTable\n",
    "from statsmodels.tsa.stattools import adfuller\n",
    "\n",
    "# Set directory path to current directory\n",
    "dir_path = os.path.abspath('../')\n",
    "output_path = os.path.abspath('../outputs')\n",
    "\n",
    "dat = os.path.join(dir_path, 'control_variables.xlsx')"
   ]
  },
  {
   "cell_type": "code",
   "execution_count": 10,
   "metadata": {},
   "outputs": [],
   "source": [
    "df = pd.read_excel(dat, index_col=0, sheet_name=\"data\")\n",
    "df = pd.DataFrame(df)\n",
    "\n",
    "# df.index = pd.Series(df.index).fillna(method='ffill')"
   ]
  },
  {
   "cell_type": "code",
   "execution_count": 11,
   "metadata": {},
   "outputs": [],
   "source": [
    "df['energy aid'] = df['distribution cumulative']+df['nrgen cumulative']+df['policy cumulative']+df['rgen cumulative']\n",
    "df['energy infrastrature'] = df['distribution cumulative']+df['nrgen cumulative']+df['rgen cumulative']\n",
    "df['energy generation'] = df['nrgen cumulative']+df['rgen cumulative']\n",
    "\n",
    "# df['test'] = df.iloc[:,[16,20]].sum().values \n",
    "#https://stackoverflow.com/questions/68119362/sum-values-from-dataframe-with-iloc"
   ]
  },
  {
   "cell_type": "code",
   "execution_count": 12,
   "metadata": {},
   "outputs": [],
   "source": [
    "coeffients0 = []\n",
    "coeffients1 = []\n",
    "coeffients2 = []\n",
    "\n",
    "headers0 = [\"Constant\", \"Energy aid\"]\n",
    "headers1 = [\"Constant\", \"Energy infrastructure\", \"Energy Policy\"]\n",
    "headers2 = [\"Constant\", \"Energy Distribution\", \"Energy generation\", \"Energy Policy\"]\n",
    "\n",
    "countries0 = []\n",
    "countries1 = []\n",
    "countries2 = []\n",
    "\n",
    "significance0 = []\n",
    "significance1 = []\n",
    "significance2 = []\n",
    "\n",
    "rsq0 = []\n",
    "rsq1 = []\n",
    "rsq2 = []\n",
    "\n",
    "rsq_adj0 = []\n",
    "rsq_adj1 = []\n",
    "rsq_adj2 = []"
   ]
  },
  {
   "cell_type": "markdown",
   "metadata": {},
   "source": [
    "Model 3 modification - 0 - elec ~ total energy aid"
   ]
  },
  {
   "cell_type": "code",
   "execution_count": 13,
   "metadata": {},
   "outputs": [],
   "source": [
    "for name, group in df.groupby('country'):\n",
    "    \n",
    "    y=group['dElec']\n",
    "\n",
    "    X0 = group[['energy aid']]\n",
    "    \n",
    "    X0 = sm.add_constant(X0)\n",
    "    \n",
    "    reg = sm.OLS(y, X0).fit()\n",
    "    \n",
    "    # Appending regression results to the lists\n",
    "    coeffients0.append(reg.params)\n",
    "    rsq0.append(reg.rsquared)\n",
    "    rsq_adj0.append(reg.rsquared_adj)\n",
    "    significance0.append(reg.pvalues)\n",
    "    countries0.append(name)    "
   ]
  },
  {
   "cell_type": "markdown",
   "metadata": {},
   "source": [
    "Model 3 modification - 1 - elec ~ energy policy + energy infrastructure"
   ]
  },
  {
   "cell_type": "code",
   "execution_count": 14,
   "metadata": {},
   "outputs": [],
   "source": [
    "for name, group in df.groupby('country'):\n",
    "    \n",
    "    y=group['dElec']\n",
    "\n",
    "    X1 = group[['energy infrastrature',\n",
    "                'policy cumulative']]\n",
    "    \n",
    "    X1 = sm.add_constant(X1)\n",
    "    \n",
    "    reg1 = sm.OLS(y, X1).fit()\n",
    "    \n",
    "    # Appending regression results to the lists\n",
    "    coeffients1.append(reg1.params)\n",
    "    rsq1.append(reg1.rsquared)\n",
    "    rsq_adj1.append(reg1.rsquared_adj)\n",
    "    significance1.append(reg1.pvalues)\n",
    "    countries1.append(name)    "
   ]
  },
  {
   "cell_type": "markdown",
   "metadata": {},
   "source": [
    "Model 3 modification - 2 - elec ~ energy policy + generation + energy distribution"
   ]
  },
  {
   "cell_type": "code",
   "execution_count": 15,
   "metadata": {},
   "outputs": [],
   "source": [
    "for name, group in df.groupby('country'):\n",
    "    \n",
    "    y=group['dElec']\n",
    "\n",
    "    X2 = group[['distribution cumulative',\n",
    "                'energy generation',\n",
    "                'policy cumulative']]\n",
    "    \n",
    "    X2 = sm.add_constant(X2)\n",
    "    \n",
    "    reg2 = sm.OLS(y, X2).fit()\n",
    "    \n",
    "    # Appending regression results to the lists\n",
    "    coeffients2.append(reg2.params)\n",
    "    rsq2.append(reg2.rsquared)\n",
    "    rsq_adj2.append(reg2.rsquared_adj)\n",
    "    significance2.append(reg2.pvalues)\n",
    "    countries2.append(name)    "
   ]
  },
  {
   "cell_type": "code",
   "execution_count": 16,
   "metadata": {},
   "outputs": [],
   "source": [
    "output = os.path.join(output_path, 'model3_modi_output.xlsx')\n",
    "# print(significance)\n",
    "\n",
    "p0_df = pd.DataFrame(significance0)\n",
    "p1_df = pd.DataFrame(significance1)\n",
    "p2_df = pd.DataFrame(significance2)\n",
    "\n",
    "# Write the data into an excel sheet\n",
    "with pd.ExcelWriter(output,\n",
    "                    engine='openpyxl',\n",
    "                    mode='a',\n",
    "                    if_sheet_exists=\"new\",\n",
    ") as writer:\n",
    "    writer.book = openpyxl.load_workbook(output)\n",
    "    p0_df.to_excel(writer, sheet_name='pvalue-0')\n",
    "    p1_df.to_excel(writer, sheet_name='pvalue-1')\n",
    "    p2_df.to_excel(writer, sheet_name='pvalue-2')"
   ]
  },
  {
   "cell_type": "code",
   "execution_count": 17,
   "metadata": {},
   "outputs": [],
   "source": [
    "# Putting the coefficients into a table\n",
    "tbl0 = SimpleTable(coeffients0, headers0, countries0,\n",
    "                  data_fmts=[\"%3.2f\",\"%d\"])\n",
    "tbl1 = SimpleTable(coeffients1, headers1, countries1,\n",
    "                  data_fmts=[\"%3.2f\",\"%d\"])\n",
    "tbl2 = SimpleTable(coeffients2, headers2, countries2,\n",
    "                  data_fmts=[\"%3.2f\",\"%d\"])\n",
    "\n",
    "# Turning the table into a dataframe\n",
    "tbl0_df = pd.DataFrame(tbl0, columns=[\"Country\", \"Constant\", \"Energy aid\"])\n",
    "tbl1_df = pd.DataFrame(tbl1, columns=[\"Country\", \"Constant\", \"Energy infrastructure\", \"energy policy\"])\n",
    "tbl2_df = pd.DataFrame(tbl2, columns=[\"Country\", \"Constant\", \"Energy distribution\", \"energy generation\", \"energy policy\"])\n",
    "\n",
    "# Turning array with r-squared and r-sqaured adjusted values into dataframes\n",
    "rsq0_df = pd.DataFrame(rsq0, columns=['r-squared-0'])\n",
    "rsq0_adj_df = pd.DataFrame(rsq_adj0, columns=['r-squared adjusted-0'])\n",
    "rsq1_df = pd.DataFrame(rsq1, columns=['r-squared-1'])\n",
    "rsq1_adj_df = pd.DataFrame(rsq_adj1, columns=['r-squared adjusted-1'])\n",
    "rsq2_df = pd.DataFrame(rsq2, columns=['r-squared-2'])\n",
    "rsq2_adj_df = pd.DataFrame(rsq_adj2, columns=['r-squared adjusted-2'])\n",
    "\n",
    "# Concating two data together (Got overlapped because didn't reset index)\n",
    "rsq0_dat = pd.concat([rsq0_df, rsq0_adj_df], axis=1)\n",
    "rsq1_dat = pd.concat([rsq1_df, rsq1_adj_df], axis=1)\n",
    "rsq2_dat = pd.concat([rsq2_df, rsq2_adj_df], axis=1)\n",
    "\n",
    "# Write the data into an excel sheet\n",
    "with pd.ExcelWriter(output,\n",
    "                    engine='openpyxl',\n",
    "                    mode='a',\n",
    "                    if_sheet_exists=\"new\",\n",
    ") as writer:\n",
    "    writer.book = openpyxl.load_workbook(output)\n",
    "    tbl0_df.to_excel(writer, sheet_name='coef-0')\n",
    "    tbl1_df.to_excel(writer, sheet_name='coef-1')\n",
    "    tbl2_df.to_excel(writer, sheet_name='coef-2')\n",
    "    rsq0_dat.to_excel(writer, sheet_name='rsqua-0')\n",
    "    rsq1_dat.to_excel(writer, sheet_name='rsqua-1')\n",
    "    rsq2_dat.to_excel(writer, sheet_name='rsqua-2')\n"
   ]
  },
  {
   "cell_type": "markdown",
   "metadata": {},
   "source": [
    "reg operation:\n",
    "\n",
    "['HC0_se', 'HC1_se', 'HC2_se', 'HC3_se', '_HCCM', '__class__', '__delattr__', '__dict__', '__dir__', '__doc__', '__eq__', '__format__', '__ge__', '__getattribute__', '__gt__', '__hash__', '__init__', '__init_subclass__', '__le__', '__lt__', '__module__', '__ne__', '__new__', '__reduce__', '__reduce_ex__', '__repr__', '__setattr__', '__sizeof__', '__str__', '__subclasshook__', '__weakref__', '_abat_diagonal', '_cache', '_data_attr', '_data_in_cache', '_get_robustcov_results', '_is_nested', '_use_t', '_wexog_singular_values', 'aic', 'bic', 'bse', 'centered_tss', 'compare_f_test', 'compare_lm_test', 'compare_lr_test', 'condition_number', 'conf_int', 'conf_int_el', 'cov_HC0', 'cov_HC1', 'cov_HC2', 'cov_HC3', 'cov_kwds', 'cov_params', 'cov_type', 'df_model', 'df_resid', 'eigenvals', 'el_test', 'ess', 'f_pvalue', 'f_test', 'fittedvalues', 'fvalue', 'get_influence', 'get_prediction', 'get_robustcov_results', 'info_criteria', 'initialize', 'k_constant', 'llf', 'load', 'model', 'mse_model', 'mse_resid', 'mse_total', 'nobs', 'normalized_cov_params', 'outlier_test', 'params', 'predict', 'pvalues', 'remove_data', 'resid', 'resid_pearson', 'rsquared', 'rsquared_adj', 'save', 'scale', 'ssr', 'summary', 'summary2', 't_test', 't_test_pairwise', 'tvalues', 'uncentered_tss', 'use_t', 'wald_test', 'wald_test_terms', 'wresid']"
   ]
  }
 ],
 "metadata": {
  "interpreter": {
   "hash": "cd239d77895c76b1b0b6aa7af5762016a4c6e6b8e0ec894c7a726779eb4942ae"
  },
  "kernelspec": {
   "display_name": "Python 3.7.13 ('MyPythonProject')",
   "language": "python",
   "name": "python3"
  },
  "language_info": {
   "codemirror_mode": {
    "name": "ipython",
    "version": 3
   },
   "file_extension": ".py",
   "mimetype": "text/x-python",
   "name": "python",
   "nbconvert_exporter": "python",
   "pygments_lexer": "ipython3",
   "version": "3.7.13"
  },
  "orig_nbformat": 4
 },
 "nbformat": 4,
 "nbformat_minor": 2
}
