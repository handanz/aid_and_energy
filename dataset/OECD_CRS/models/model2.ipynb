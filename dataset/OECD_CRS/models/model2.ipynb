{
 "cells": [
  {
   "cell_type": "code",
   "execution_count": 27,
   "metadata": {},
   "outputs": [],
   "source": [
    "import os\n",
    "import pandas as pd\n",
    "import openpyxl\n",
    "import statsmodels.api as sm\n",
    "from statsmodels.iolib.summary2 import summary_col\n",
    "from statsmodels.iolib.table import SimpleTable\n",
    "\n",
    "# Set directory path to current directory\n",
    "dir_path = os.path.abspath('')\n",
    "gdp_path = os.path.abspath('../control-variables')\n",
    "\n",
    "dat = os.path.join(dir_path, 'results_v1.xlsx')\n",
    "gdp = os.path.join(gdp_path, 'inde-variable-data.xlsx')"
   ]
  },
  {
   "cell_type": "code",
   "execution_count": 28,
   "metadata": {},
   "outputs": [],
   "source": [
    "df = pd.read_excel(dat, index_col=0, sheet_name=\"standarized data\")\n",
    "df = pd.DataFrame(df)\n",
    "\n",
    "# df.index = pd.Series(df.index).fillna(method='ffill')"
   ]
  },
  {
   "cell_type": "code",
   "execution_count": 29,
   "metadata": {},
   "outputs": [],
   "source": [
    "coeffients = []\n",
    "headers = [\"Constant\", \"Energy Distribution\", \"Energy generation, nonrenewable\", \"Energy Policy\", \"Energy generation, renewable\"]\n",
    "countries = []\n",
    "significance = []\n",
    "rsq = []\n",
    "rsq_adj = []"
   ]
  },
  {
   "cell_type": "code",
   "execution_count": 1,
   "metadata": {},
   "outputs": [],
   "source": [
    "# for name, group in df.groupby('country'):\n",
    "#     group['Distribution%'] = group['Distribution%'].cumsum\n",
    "#     group['Nonrenewable generation%'] = group['Nonrenewable generation%'].cumsum\n",
    "#     group['Policy%'] = group['Policy%'].cumsum\n",
    "#     group['Renewable generation%'] = group['Renewable generation%'].cumsum\n",
    "    \n",
    "#     print(group[['Distribution%']])"
   ]
  },
  {
   "cell_type": "code",
   "execution_count": 1,
   "metadata": {},
   "outputs": [
    {
     "ename": "NameError",
     "evalue": "name 'df' is not defined",
     "output_type": "error",
     "traceback": [
      "\u001b[0;31m---------------------------------------------------------------------------\u001b[0m",
      "\u001b[0;31mNameError\u001b[0m                                 Traceback (most recent call last)",
      "\u001b[0;32m/var/folders/m9/pw7wynfx3mzbspsn6nvytb2c0000gn/T/ipykernel_13624/2680452309.py\u001b[0m in \u001b[0;36m<module>\u001b[0;34m\u001b[0m\n\u001b[0;32m----> 1\u001b[0;31m \u001b[0;32mfor\u001b[0m \u001b[0mname\u001b[0m\u001b[0;34m,\u001b[0m \u001b[0mgroup\u001b[0m \u001b[0;32min\u001b[0m \u001b[0mdf\u001b[0m\u001b[0;34m.\u001b[0m\u001b[0mgroupby\u001b[0m\u001b[0;34m(\u001b[0m\u001b[0;34m'country'\u001b[0m\u001b[0;34m)\u001b[0m\u001b[0;34m:\u001b[0m\u001b[0;34m\u001b[0m\u001b[0;34m\u001b[0m\u001b[0m\n\u001b[0m\u001b[1;32m      2\u001b[0m     \u001b[0;31m# print(name)\u001b[0m\u001b[0;34m\u001b[0m\u001b[0;34m\u001b[0m\u001b[0;34m\u001b[0m\u001b[0m\n\u001b[1;32m      3\u001b[0m \u001b[0;34m\u001b[0m\u001b[0m\n\u001b[1;32m      4\u001b[0m     \u001b[0;31m# print(group['Distribution%'])\u001b[0m\u001b[0;34m\u001b[0m\u001b[0;34m\u001b[0m\u001b[0;34m\u001b[0m\u001b[0m\n\u001b[1;32m      5\u001b[0m \u001b[0;34m\u001b[0m\u001b[0m\n",
      "\u001b[0;31mNameError\u001b[0m: name 'df' is not defined"
     ]
    }
   ],
   "source": [
    "for name, group in df.groupby('country'):\n",
    "    # print(name)\n",
    "    \n",
    "    # print(group['Distribution%'])\n",
    "    \n",
    "    y=group['elec_rate']\n",
    "\n",
    "    # Model 1: The multiple regression model describes the response as a weighted sum of the predictors:(Elec = beta_0 + beta_1*ED + beta_2*EG,nr ~)\n",
    "    X0 = group[['Distribution%',\n",
    "                'Nonrenewable generation%',\n",
    "                'Policy%',\n",
    "                'Renewable generation%'               \n",
    "                ]].cumsum\n",
    "    \n",
    "    X0 = sm.add_constant(X0)\n",
    "    \n",
    "    reg = sm.OLS(y, X0).fit()\n",
    "    \n",
    "    # print(reg.summary())\n",
    "    \n",
    "    # coeffients.append(reg.params)\n",
    "    # rsq.append(reg.rsquared)\n",
    "    # rsq_adj.append(reg.rsquared_adj)\n",
    "    \n",
    "    # significance.append(reg.pvalues)\n",
    "\n",
    "    # countries.append(name)"
   ]
  },
  {
   "cell_type": "code",
   "execution_count": 15,
   "metadata": {},
   "outputs": [
    {
     "name": "stderr",
     "output_type": "stream",
     "text": [
      "/opt/anaconda3/envs/MyPythonProject/lib/python3.7/site-packages/ipykernel_launcher.py:10: FutureWarning: Use of **kwargs is deprecated, use engine_kwargs instead.\n",
      "  # Remove the CWD from sys.path while we load stuff.\n"
     ]
    }
   ],
   "source": [
    "output = os.path.join(dir_path, 'model2_output.xlsx')\n",
    "# print(significance)\n",
    "\n",
    "p_df = pd.DataFrame(significance)\n",
    "\n",
    "# Write the data into an excel sheet\n",
    "with pd.ExcelWriter(output,\n",
    "                    engine='openpyxl',\n",
    "                    mode='a',\n",
    "                    if_sheeet_exists=\"overlay\",\n",
    ") as writer:\n",
    "    writer.book = openpyxl.load_workbook(output)\n",
    "    p_df.to_excel(writer, sheet_name='pvalue')"
   ]
  },
  {
   "cell_type": "code",
   "execution_count": 8,
   "metadata": {},
   "outputs": [],
   "source": [
    "# Putting the coefficients into a table\n",
    "tbl = SimpleTable(coeffients, headers, countries,\n",
    "                  data_fmts=[\"%3.2f\",\"%d\"])\n",
    "\n",
    "# Turning the table into a dataframe\n",
    "tbl_df = pd.DataFrame(tbl, columns=[\"Country\", \"Constant\", \"Energy Distribution\", \"Energy generation, nonrenewable\", \"Energy Policy\", \"Energy generation, renewable\", \"dGDP\"])\n",
    "\n",
    "# output = os.path.join(dir_path, 'model2_output.xlsx')\n",
    "\n",
    "# Write grouped aid data to excel file\n",
    "# tbl_df.to_excel(output, sheet_name='coefficeint')\n"
   ]
  },
  {
   "cell_type": "code",
   "execution_count": 20,
   "metadata": {},
   "outputs": [
    {
     "name": "stderr",
     "output_type": "stream",
     "text": [
      "/opt/anaconda3/envs/MyPythonProject/lib/python3.7/site-packages/ipykernel_launcher.py:16: FutureWarning: Use of **kwargs is deprecated, use engine_kwargs instead.\n",
      "  app.launch_new_instance()\n"
     ]
    }
   ],
   "source": [
    "# Turning array with r-squared and r-sqaured adjusted values into dataframes\n",
    "rsq_df = pd.DataFrame(rsq, columns=['r-squared'])\n",
    "rsq_adj_df = pd.DataFrame(rsq_adj, columns=['r-squared adjusted'])\n",
    "\n",
    "# Turning the data into columns\n",
    "rsq_df = rsq_df.transpose()\n",
    "rsq_adj_df = rsq_adj_df.transpose()\n",
    "\n",
    "# Concating two data together (Got overlapped because didn't reset index)\n",
    "rsq_dat = pd.concat([rsq_df, rsq_adj_df], axis=1)\n",
    "\n",
    "# Write the data into an excel sheet\n",
    "with pd.ExcelWriter(output,\n",
    "                    engine='openpyxl',\n",
    "                    mode='a',\n",
    "                    if_sheeet_exists=\"overlay\",\n",
    ") as writer:\n",
    "    writer.book = openpyxl.load_workbook(output)\n",
    "    rsq_dat.to_excel(writer, sheet_name='rsqua')"
   ]
  },
  {
   "cell_type": "markdown",
   "metadata": {},
   "source": [
    "reg operation:\n",
    "\n",
    "['HC0_se', 'HC1_se', 'HC2_se', 'HC3_se', '_HCCM', '__class__', '__delattr__', '__dict__', '__dir__', '__doc__', '__eq__', '__format__', '__ge__', '__getattribute__', '__gt__', '__hash__', '__init__', '__init_subclass__', '__le__', '__lt__', '__module__', '__ne__', '__new__', '__reduce__', '__reduce_ex__', '__repr__', '__setattr__', '__sizeof__', '__str__', '__subclasshook__', '__weakref__', '_abat_diagonal', '_cache', '_data_attr', '_data_in_cache', '_get_robustcov_results', '_is_nested', '_use_t', '_wexog_singular_values', 'aic', 'bic', 'bse', 'centered_tss', 'compare_f_test', 'compare_lm_test', 'compare_lr_test', 'condition_number', 'conf_int', 'conf_int_el', 'cov_HC0', 'cov_HC1', 'cov_HC2', 'cov_HC3', 'cov_kwds', 'cov_params', 'cov_type', 'df_model', 'df_resid', 'eigenvals', 'el_test', 'ess', 'f_pvalue', 'f_test', 'fittedvalues', 'fvalue', 'get_influence', 'get_prediction', 'get_robustcov_results', 'info_criteria', 'initialize', 'k_constant', 'llf', 'load', 'model', 'mse_model', 'mse_resid', 'mse_total', 'nobs', 'normalized_cov_params', 'outlier_test', 'params', 'predict', 'pvalues', 'remove_data', 'resid', 'resid_pearson', 'rsquared', 'rsquared_adj', 'save', 'scale', 'ssr', 'summary', 'summary2', 't_test', 't_test_pairwise', 'tvalues', 'uncentered_tss', 'use_t', 'wald_test', 'wald_test_terms', 'wresid']"
   ]
  }
 ],
 "metadata": {
  "interpreter": {
   "hash": "cd239d77895c76b1b0b6aa7af5762016a4c6e6b8e0ec894c7a726779eb4942ae"
  },
  "kernelspec": {
   "display_name": "Python 3.7.13 ('MyPythonProject')",
   "language": "python",
   "name": "python3"
  },
  "language_info": {
   "codemirror_mode": {
    "name": "ipython",
    "version": 3
   },
   "file_extension": ".py",
   "mimetype": "text/x-python",
   "name": "python",
   "nbconvert_exporter": "python",
   "pygments_lexer": "ipython3",
   "version": "3.7.13"
  },
  "orig_nbformat": 4
 },
 "nbformat": 4,
 "nbformat_minor": 2
}
