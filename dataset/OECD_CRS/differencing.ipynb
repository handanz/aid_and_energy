{
 "cells": [
  {
   "cell_type": "code",
   "execution_count": 1,
   "metadata": {},
   "outputs": [],
   "source": [
    "import os\n",
    "import numpy as np\n",
    "import pandas as pd\n",
    "import openpyxl"
   ]
  },
  {
   "cell_type": "code",
   "execution_count": 2,
   "metadata": {},
   "outputs": [],
   "source": [
    "# Set directory path to current directory\n",
    "dir_path = os.path.abspath('')\n",
    "output_path = os.path.abspath('outputs')\n",
    "\n",
    "dat = os.path.join(dir_path, 'control_variables.xlsx')"
   ]
  },
  {
   "cell_type": "code",
   "execution_count": 3,
   "metadata": {},
   "outputs": [],
   "source": [
    "df = pd.read_excel(dat, index_col=0, sheet_name=\"data\")\n",
    "df = pd.DataFrame(df)"
   ]
  },
  {
   "cell_type": "code",
   "execution_count": null,
   "metadata": {},
   "outputs": [],
   "source": [
    "df['policy_diff'] = "
   ]
  }
 ],
 "metadata": {
  "interpreter": {
   "hash": "cd239d77895c76b1b0b6aa7af5762016a4c6e6b8e0ec894c7a726779eb4942ae"
  },
  "kernelspec": {
   "display_name": "Python 3.7.13 ('MyPythonProject')",
   "language": "python",
   "name": "python3"
  },
  "language_info": {
   "codemirror_mode": {
    "name": "ipython",
    "version": 3
   },
   "file_extension": ".py",
   "mimetype": "text/x-python",
   "name": "python",
   "nbconvert_exporter": "python",
   "pygments_lexer": "ipython3",
   "version": "3.7.13"
  },
  "orig_nbformat": 4
 },
 "nbformat": 4,
 "nbformat_minor": 2
}
