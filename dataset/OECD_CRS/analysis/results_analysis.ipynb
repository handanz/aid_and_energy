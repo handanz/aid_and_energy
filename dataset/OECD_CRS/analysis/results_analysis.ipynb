{
 "cells": [
  {
   "cell_type": "code",
   "execution_count": 51,
   "metadata": {},
   "outputs": [],
   "source": [
    "%matplotlib inline"
   ]
  },
  {
   "cell_type": "code",
   "execution_count": 31,
   "metadata": {},
   "outputs": [],
   "source": [
    "import os\n",
    "import pandas as pd\n",
    "import openpyxl\n",
    "import seaborn as sns\n",
    "import matplotlib.pyplot as plt\n",
    "import statsmodels.api as sm\n",
    "import matplotlib.cbook as cbook\n",
    "from statsmodels.iolib.summary2 import summary_col\n",
    "from statsmodels.iolib.table import SimpleTable\n",
    "\n",
    "# Set directory path to current directory\n",
    "dir_path = os.path.abspath('')\n",
    "gdp_path = os.path.abspath('../control-variables')\n",
    "\n",
    "dat = os.path.join(dir_path, 'results_v1.xlsx')\n",
    "gdp = os.path.join(gdp_path, 'inde-variable-data.xlsx')"
   ]
  },
  {
   "cell_type": "code",
   "execution_count": 22,
   "metadata": {},
   "outputs": [
    {
     "name": "stdout",
     "output_type": "stream",
     "text": [
      "              year          GDP\n",
      "Country Name                   \n",
      "Angola        2002  3785.150322\n",
      "NaN           2003  3838.795052\n",
      "NaN           2004  4225.467927\n",
      "NaN           2005  4837.709827\n",
      "NaN           2006  5362.019843\n",
      "...            ...          ...\n",
      "NaN           2015  2679.507615\n",
      "NaN           2016  2806.469032\n",
      "NaN           2017  3795.642431\n",
      "NaN           2018  4017.221716\n",
      "NaN           2019  3783.547898\n",
      "\n",
      "[835 rows x 2 columns]\n",
      "              year          GDP\n",
      "Country Name                   \n",
      "Angola        2002  3785.150322\n",
      "Angola        2003  3838.795052\n",
      "Angola        2004  4225.467927\n",
      "Angola        2005  4837.709827\n",
      "Angola        2006  5362.019843\n",
      "...            ...          ...\n",
      "Zimbabwe      2015  2679.507615\n",
      "Zimbabwe      2016  2806.469032\n",
      "Zimbabwe      2017  3795.642431\n",
      "Zimbabwe      2018  4017.221716\n",
      "Zimbabwe      2019  3783.547898\n",
      "\n",
      "[835 rows x 2 columns]\n"
     ]
    }
   ],
   "source": [
    "# Import GDP data into dataframe and flatten the data\n",
    "gdp_df = pd.read_excel(gdp, index_col=0, sheet_name=\"GDP_flat\")\n",
    "\n",
    "print(gdp_df)\n",
    "\n",
    "gdp_df.index = pd.Series(gdp_df.index).fillna(method='ffill')\n",
    "\n",
    "# Fill the empty cells with 0s\n",
    "gdp_df.fillna(0, inplace=True)\n",
    "\n",
    "\n",
    "print(gdp_df)\n",
    "\n",
    "\n",
    "\n",
    "# Sort the dataframe by country names\n",
    "gdp_df = gdp_df.sort_values([\"Country Name\", \"year\"], ascending=True)\n",
    "\n",
    "\n"
   ]
  },
  {
   "cell_type": "code",
   "execution_count": 24,
   "metadata": {},
   "outputs": [
    {
     "name": "stdout",
     "output_type": "stream",
     "text": [
      "                                 2002       2003      2004       2005  \\\n",
      "Country Name                                                            \n",
      "Aruba                       -5.411988  -0.151921  6.023133  -0.084879   \n",
      "Africa Eastern and Southern  1.337972   0.271501  2.933164   3.599817   \n",
      "Afghanistan                  0.000000   3.868380 -2.875203   7.207967   \n",
      "Africa Western and Central   7.010741   2.738269  5.149780   3.018704   \n",
      "Angola                       9.943758  -0.431834  7.187064  11.030783   \n",
      "...                               ...        ...       ...        ...   \n",
      "Kosovo                       0.000000   0.000000  0.000000   0.000000   \n",
      "Yemen, Rep.                  0.974937   0.789261  1.019040   2.612533   \n",
      "South Africa                 2.397930   1.696808  3.289055   3.982026   \n",
      "Zambia                       1.843697   4.236981  4.309003   4.471526   \n",
      "Zimbabwe                    -9.125609 -17.188528 -6.102906  -6.154441   \n",
      "\n",
      "                                 2006       2007       2008       2009  \\\n",
      "Country Name                                                             \n",
      "Aruba                        0.246853   1.401980  -0.224759 -10.599128   \n",
      "Africa Eastern and Southern  3.898307   4.044778   1.803462  -1.740180   \n",
      "Afghanistan                  2.253311  11.022787   1.594215  18.515419   \n",
      "Africa Western and Central   2.533622   2.667866   3.386357   3.383289   \n",
      "Angola                       7.582319   9.890049   7.116848  -2.808600   \n",
      "...                               ...        ...        ...        ...   \n",
      "Kosovo                       0.000000   0.000000   0.000000   4.194652   \n",
      "Yemen, Rep.                  0.276761   0.450023   0.761275   0.986326   \n",
      "South Africa                 4.277768   4.008495   1.823497  -2.898733   \n",
      "Zambia                       5.091439   5.497462   4.875218   6.190386   \n",
      "Zimbabwe                    -4.087314  -4.442784 -18.491176  10.701370   \n",
      "\n",
      "                                  2010       2011       2012      2013  \\\n",
      "Country Name                                                             \n",
      "Aruba                        -3.886820   3.055788  -1.865105  3.592223   \n",
      "Africa Eastern and Southern   2.340620   1.223828  -0.769509  1.505305   \n",
      "Afghanistan                  11.264091  -2.681061   8.974865  1.974166   \n",
      "Africa Western and Central    4.056566   2.017199   2.315175  3.260886   \n",
      "Angola                        0.640263  -0.220843   4.706519  1.291994   \n",
      "...                                ...        ...        ...       ...   \n",
      "Kosovo                        4.100372   5.410439   0.805676  4.702936   \n",
      "Yemen, Rep.                   4.732905 -15.107919  -0.391864  2.014175   \n",
      "South Africa                  1.551073   1.607665   0.789722  0.854344   \n",
      "Zambia                        7.129809   2.423884   4.310199  1.809749   \n",
      "Zimbabwe                     18.065883  12.452840  14.701077  0.192474   \n",
      "\n",
      "                                 2014       2015       2016      2017  \\\n",
      "Country Name                                                            \n",
      "Aruba                       -0.290534   5.129657   1.587869  1.519821   \n",
      "Africa Eastern and Southern  1.203260   0.187860  -0.674533 -0.144710   \n",
      "Afghanistan                 -0.665291  -1.622857  -0.541416  0.064764   \n",
      "Africa Western and Central   3.096784   0.007402  -2.533562 -0.390665   \n",
      "Angola                       1.219881  -2.468737  -5.816188 -3.409983   \n",
      "...                               ...        ...        ...       ...   \n",
      "Kosovo                       3.653588   7.371867   6.203623  4.038709   \n",
      "Yemen, Rep.                 -2.802862 -29.827145 -11.611137 -7.345180   \n",
      "South Africa                -0.179701  -0.218801  -0.806311 -0.265301   \n",
      "Zambia                       1.480580  -0.187950   0.706659  0.494086   \n",
      "Zimbabwe                     0.596149   0.100575  -0.793105  3.192453   \n",
      "\n",
      "                                 2018      2019  \n",
      "Country Name                                     \n",
      "Aruba                        0.000000  0.000000  \n",
      "Africa Eastern and Southern -0.185406 -0.544414  \n",
      "Afghanistan                 -1.194900  1.535637  \n",
      "Africa Western and Central   0.241531  0.492953  \n",
      "Angola                      -5.162112 -3.795608  \n",
      "...                               ...       ...  \n",
      "Kosovo                       3.056665  5.237433  \n",
      "Yemen, Rep.                 -1.594564  0.000000  \n",
      "South Africa                 0.113021 -1.196091  \n",
      "Zambia                       1.048034 -1.451364  \n",
      "Zimbabwe                     3.356166 -7.468627  \n",
      "\n",
      "[266 rows x 18 columns]\n"
     ]
    }
   ],
   "source": [
    "gdp_cap = pd.read_excel(gdp, index_col=0, sheet_name=\"GDPcapita%\", usecols=\"A,AV:BM\")\n",
    "\n",
    "gdp_cap.index = pd.Series(gdp_cap.index).fillna(method='ffill')\n",
    "\n",
    "# Fill the empty cells with 0s\n",
    "gdp_cap.fillna(0, inplace=True)\n",
    "\n",
    "\n",
    "print(gdp_cap)\n",
    "\n",
    "\n",
    "\n",
    "# Sort the dataframe by country names\n",
    "# gdp_cap = gdp_cap.sort_values([\"Country Name\", \"year\"], ascending=True)"
   ]
  },
  {
   "cell_type": "code",
   "execution_count": 17,
   "metadata": {},
   "outputs": [
    {
     "ename": "TypeError",
     "evalue": "isnull() takes 1 positional argument but 2 were given",
     "output_type": "error",
     "traceback": [
      "\u001b[0;31m---------------------------------------------------------------------------\u001b[0m",
      "\u001b[0;31mTypeError\u001b[0m                                 Traceback (most recent call last)",
      "\u001b[0;32m/var/folders/m9/pw7wynfx3mzbspsn6nvytb2c0000gn/T/ipykernel_27234/239838141.py\u001b[0m in \u001b[0;36m<module>\u001b[0;34m\u001b[0m\n\u001b[0;32m----> 1\u001b[0;31m \u001b[0mgdp_df\u001b[0m\u001b[0;34m.\u001b[0m\u001b[0misnull\u001b[0m\u001b[0;34m(\u001b[0m\u001b[0;32mTrue\u001b[0m\u001b[0;34m)\u001b[0m\u001b[0;34m\u001b[0m\u001b[0;34m\u001b[0m\u001b[0m\n\u001b[0m",
      "\u001b[0;31mTypeError\u001b[0m: isnull() takes 1 positional argument but 2 were given"
     ]
    }
   ],
   "source": [
    "gdp_df.isnull(True)"
   ]
  },
  {
   "cell_type": "code",
   "execution_count": 83,
   "metadata": {},
   "outputs": [],
   "source": [
    "# with pd.ExcelWriter(gdp,\n",
    "#                     engine='openpyxl',\n",
    "#                     mode='a',\n",
    "#                     if_sheeet_exists=\"overlay\",\n",
    "# ) as writer:\n",
    "#     writer.book = openpyxl.load_workbook(gdp)\n",
    "#     gdp_df.to_excel(writer, sheet_name='GDP_1')"
   ]
  },
  {
   "cell_type": "code",
   "execution_count": 25,
   "metadata": {},
   "outputs": [],
   "source": [
    "df = pd.read_excel(dat, index_col=0, sheet_name=\"standarized data\")\n",
    "# df.index = pd.Series(df.index).fillna(method='ffill')"
   ]
  },
  {
   "cell_type": "code",
   "execution_count": 147,
   "metadata": {},
   "outputs": [],
   "source": [
    "def significance_code(p):\n",
    "    if p < 0.001:\n",
    "        return '***'\n",
    "    elif p < 0.01:\n",
    "        return '**'\n",
    "    elif p < 0.05:\n",
    "        return '*'\n",
    "    elif p < 0.1:\n",
    "        return '.'\n",
    "    else:\n",
    "        return ' '"
   ]
  },
  {
   "cell_type": "code",
   "execution_count": 148,
   "metadata": {},
   "outputs": [],
   "source": [
    "coeffients = []\n",
    "\n",
    "headers = [\"Constant\", \"Energy Distribution\", \"Energy generation, nonrenewable\", \"Energy Policy\", \"Energy generation, renewable\"]\n",
    "        #    \"R-squared\", \"Adjusted R-squared\"]\n",
    "\n",
    "countries = []\n",
    "\n",
    "significance = []\n",
    "\n",
    "rsq = []\n",
    "rsq_adj = []"
   ]
  },
  {
   "cell_type": "code",
   "execution_count": 150,
   "metadata": {},
   "outputs": [],
   "source": [
    "for name, group in df.groupby('country'):\n",
    "    # print(name)\n",
    "    \n",
    "    # print(group['Distribution%'])\n",
    "    \n",
    "    y=group['elec_rate']\n",
    "\n",
    "    # Model 1: The multiple regression model describes the response as a weighted sum of the predictors:(Elec = beta_0 + beta_1*ED + beta_2*EG,nr ~)\n",
    "    X0 = group[['Distribution%',\n",
    "                'Nonrenewable generation%',\n",
    "                'Policy%',\n",
    "                'Renewable generation%'                 \n",
    "                ]]\n",
    "    \n",
    "    X0 = sm.add_constant(X0)\n",
    "    \n",
    "    reg = sm.OLS(y, X0).fit()\n",
    "    \n",
    "    coeffients.append(reg.params)\n",
    "    # coeffients.extend([reg.params.values.flatten(), (100*reg.rsquared).astype(int), (100*reg.rsquared_adj).astype(int)])\n",
    "    \n",
    "    significance.append(reg.pvalues)\n",
    "    \n",
    "    # rsq.append(reg.rsquared)\n",
    "    # rsq_adj.append(reg.rsquared_adj)\n",
    "    countries.append(name)\n",
    "    \n",
    "    # print(rsq)\n",
    "    \n",
    "    # print(reg.summary())\n",
    "    \n",
    "    # print(res)\n",
    "    # results = summary_col([reg],stars=True,float_format='%0.2f',\n",
    "    #                    model_names=['Model 1'],\n",
    "    #                    info_dict={'N':lambda x: \"{0:d}\".format(int(x.nobs)),\n",
    "    #                               'R2':lambda x: \"{:.2f}\".format(x.rsquared)})\n",
    "\n",
    "    # print(results)"
   ]
  },
  {
   "cell_type": "code",
   "execution_count": 160,
   "metadata": {},
   "outputs": [
    {
     "name": "stderr",
     "output_type": "stream",
     "text": [
      "/opt/anaconda3/envs/MyPythonProject/lib/python3.7/site-packages/ipykernel_launcher.py:9: FutureWarning: Use of **kwargs is deprecated, use engine_kwargs instead.\n",
      "  if __name__ == '__main__':\n"
     ]
    }
   ],
   "source": [
    "# print(significance)\n",
    "\n",
    "p_df = pd.DataFrame(significance)\n",
    "\n",
    "# Write the data into an excel sheet\n",
    "with pd.ExcelWriter(dat,\n",
    "                    engine='openpyxl',\n",
    "                    mode='a',\n",
    "                    if_sheeet_exists=\"overlay\",\n",
    ") as writer:\n",
    "    writer.book = openpyxl.load_workbook(dat)\n",
    "    p_df.to_excel(writer, sheet_name='pvalue')"
   ]
  },
  {
   "cell_type": "code",
   "execution_count": 145,
   "metadata": {},
   "outputs": [
    {
     "name": "stderr",
     "output_type": "stream",
     "text": [
      "/opt/anaconda3/envs/MyPythonProject/lib/python3.7/site-packages/ipykernel_launcher.py:10: FutureWarning: Use of **kwargs is deprecated, use engine_kwargs instead.\n",
      "  # Remove the CWD from sys.path while we load stuff.\n"
     ]
    }
   ],
   "source": [
    "# Putting the coefficients into a table\n",
    "tbl = SimpleTable(coeffients, headers, countries,\n",
    "                  data_fmts=[\"%3.2f\",\"%d\"])\n",
    "\n",
    "# Turning the table into a dataframe\n",
    "tbl_df = pd.DataFrame(tbl, columns=[\"Country\", \"Constant\", \"Energy Distribution\", \"Energy generation, nonrenewable\", \"Energy Policy\", \"Energy generation, renewable\"])\n",
    "\n",
    "# Write the data into an excel sheet\n",
    "with pd.ExcelWriter(dat,\n",
    "                    engine='openpyxl',\n",
    "                    mode='a',\n",
    "                    if_sheeet_exists=\"overlay\",\n",
    ") as writer:\n",
    "    writer.book = openpyxl.load_workbook(dat)\n",
    "    tbl_df.to_excel(writer, sheet_name='coef')\n"
   ]
  },
  {
   "cell_type": "code",
   "execution_count": null,
   "metadata": {},
   "outputs": [],
   "source": [
    "# Turning array with r-squared and r-sqaured adjusted values into dataframes\n",
    "rsq_df = pd.DataFrame(rsq, columns=['r-squared'])\n",
    "rsq_adj_df = pd.DataFrame(rsq_adj, columns=['r-squared adjusted'])\n",
    "\n",
    "# Turning the data into columns\n",
    "rsq_df = rsq_df.transpose()\n",
    "rsq_adj_df = rsq_adj_df.transpose()\n",
    "\n",
    "# Concating two data together (Got overlapped because didn't reset index)\n",
    "rsq_dat = pd.concat([rsq_df, rsq_adj_df], axis=1)\n",
    "\n",
    "# Write the data into an excel sheet\n",
    "with pd.ExcelWriter(dat,\n",
    "                    engine='openpyxl',\n",
    "                    mode='a',\n",
    "                    if_sheeet_exists=\"overlay\",\n",
    ") as writer:\n",
    "    writer.book = openpyxl.load_workbook(dat)\n",
    "    rsq_dat.to_excel(writer, sheet_name='rsqua')"
   ]
  },
  {
   "cell_type": "markdown",
   "metadata": {},
   "source": [
    "reg operation:\n",
    "\n",
    "['HC0_se', 'HC1_se', 'HC2_se', 'HC3_se', '_HCCM', '__class__', '__delattr__', '__dict__', '__dir__', '__doc__', '__eq__', '__format__', '__ge__', '__getattribute__', '__gt__', '__hash__', '__init__', '__init_subclass__', '__le__', '__lt__', '__module__', '__ne__', '__new__', '__reduce__', '__reduce_ex__', '__repr__', '__setattr__', '__sizeof__', '__str__', '__subclasshook__', '__weakref__', '_abat_diagonal', '_cache', '_data_attr', '_data_in_cache', '_get_robustcov_results', '_is_nested', '_use_t', '_wexog_singular_values', 'aic', 'bic', 'bse', 'centered_tss', 'compare_f_test', 'compare_lm_test', 'compare_lr_test', 'condition_number', 'conf_int', 'conf_int_el', 'cov_HC0', 'cov_HC1', 'cov_HC2', 'cov_HC3', 'cov_kwds', 'cov_params', 'cov_type', 'df_model', 'df_resid', 'eigenvals', 'el_test', 'ess', 'f_pvalue', 'f_test', 'fittedvalues', 'fvalue', 'get_influence', 'get_prediction', 'get_robustcov_results', 'info_criteria', 'initialize', 'k_constant', 'llf', 'load', 'model', 'mse_model', 'mse_resid', 'mse_total', 'nobs', 'normalized_cov_params', 'outlier_test', 'params', 'predict', 'pvalues', 'remove_data', 'resid', 'resid_pearson', 'rsquared', 'rsquared_adj', 'save', 'scale', 'ssr', 'summary', 'summary2', 't_test', 't_test_pairwise', 'tvalues', 'uncentered_tss', 'use_t', 'wald_test', 'wald_test_terms', 'wresid']"
   ]
  },
  {
   "cell_type": "code",
   "execution_count": null,
   "metadata": {},
   "outputs": [],
   "source": [
    "mydata = [[11,12],[21,22]]  # data MUST be 2-dimensional\n",
    "myheaders = [ \"Column 1\", \"Column 2\" ]\n",
    "mystubs = [ \"Row 1\", \"Row 2\" ]\n",
    "tbl = text.SimpleTable(mydata, myheaders, mystubs, title=\"Title\")\n",
    "print( tbl )\n",
    "print( tbl.as_html() )\n",
    "# set column specific data formatting\n",
    "tbl = text.SimpleTable(mydata, myheaders, mystubs,\n",
    "    data_fmts=[\"%3.2f\",\"%d\"])\n",
    "print( tbl.as_csv() )"
   ]
  },
  {
   "cell_type": "code",
   "execution_count": 105,
   "metadata": {},
   "outputs": [
    {
     "ename": "KeyError",
     "evalue": "'country'",
     "output_type": "error",
     "traceback": [
      "\u001b[0;31m---------------------------------------------------------------------------\u001b[0m",
      "\u001b[0;31mKeyError\u001b[0m                                  Traceback (most recent call last)",
      "\u001b[0;32m/opt/anaconda3/envs/MyPythonProject/lib/python3.7/site-packages/pandas/core/indexes/base.py\u001b[0m in \u001b[0;36mget_loc\u001b[0;34m(self, key, method, tolerance)\u001b[0m\n\u001b[1;32m   3360\u001b[0m             \u001b[0;32mtry\u001b[0m\u001b[0;34m:\u001b[0m\u001b[0;34m\u001b[0m\u001b[0;34m\u001b[0m\u001b[0m\n\u001b[0;32m-> 3361\u001b[0;31m                 \u001b[0;32mreturn\u001b[0m \u001b[0mself\u001b[0m\u001b[0;34m.\u001b[0m\u001b[0m_engine\u001b[0m\u001b[0;34m.\u001b[0m\u001b[0mget_loc\u001b[0m\u001b[0;34m(\u001b[0m\u001b[0mcasted_key\u001b[0m\u001b[0;34m)\u001b[0m\u001b[0;34m\u001b[0m\u001b[0;34m\u001b[0m\u001b[0m\n\u001b[0m\u001b[1;32m   3362\u001b[0m             \u001b[0;32mexcept\u001b[0m \u001b[0mKeyError\u001b[0m \u001b[0;32mas\u001b[0m \u001b[0merr\u001b[0m\u001b[0;34m:\u001b[0m\u001b[0;34m\u001b[0m\u001b[0;34m\u001b[0m\u001b[0m\n",
      "\u001b[0;32m/opt/anaconda3/envs/MyPythonProject/lib/python3.7/site-packages/pandas/_libs/index.pyx\u001b[0m in \u001b[0;36mpandas._libs.index.IndexEngine.get_loc\u001b[0;34m()\u001b[0m\n",
      "\u001b[0;32m/opt/anaconda3/envs/MyPythonProject/lib/python3.7/site-packages/pandas/_libs/index.pyx\u001b[0m in \u001b[0;36mpandas._libs.index.IndexEngine.get_loc\u001b[0;34m()\u001b[0m\n",
      "\u001b[0;32mpandas/_libs/hashtable_class_helper.pxi\u001b[0m in \u001b[0;36mpandas._libs.hashtable.PyObjectHashTable.get_item\u001b[0;34m()\u001b[0m\n",
      "\u001b[0;32mpandas/_libs/hashtable_class_helper.pxi\u001b[0m in \u001b[0;36mpandas._libs.hashtable.PyObjectHashTable.get_item\u001b[0;34m()\u001b[0m\n",
      "\u001b[0;31mKeyError\u001b[0m: 'country'",
      "\nThe above exception was the direct cause of the following exception:\n",
      "\u001b[0;31mKeyError\u001b[0m                                  Traceback (most recent call last)",
      "\u001b[0;32m/var/folders/m9/pw7wynfx3mzbspsn6nvytb2c0000gn/T/ipykernel_22145/995267735.py\u001b[0m in \u001b[0;36m<module>\u001b[0;34m\u001b[0m\n\u001b[0;32m----> 1\u001b[0;31m \u001b[0mdf\u001b[0m\u001b[0;34m[\u001b[0m\u001b[0;34m'country'\u001b[0m\u001b[0;34m]\u001b[0m \u001b[0;34m=\u001b[0m \u001b[0mpd\u001b[0m\u001b[0;34m.\u001b[0m\u001b[0mCategorical\u001b[0m\u001b[0;34m(\u001b[0m\u001b[0mdf\u001b[0m\u001b[0;34m[\u001b[0m\u001b[0;34m'country'\u001b[0m\u001b[0;34m]\u001b[0m\u001b[0;34m,\u001b[0m \u001b[0mcategories\u001b[0m\u001b[0;34m=\u001b[0m\u001b[0mdf\u001b[0m\u001b[0;34m[\u001b[0m\u001b[0;34m'country'\u001b[0m\u001b[0;34m]\u001b[0m\u001b[0;34m.\u001b[0m\u001b[0munique\u001b[0m\u001b[0;34m(\u001b[0m\u001b[0;34m)\u001b[0m\u001b[0;34m)\u001b[0m\u001b[0;34m\u001b[0m\u001b[0;34m\u001b[0m\u001b[0m\n\u001b[0m",
      "\u001b[0;32m/opt/anaconda3/envs/MyPythonProject/lib/python3.7/site-packages/pandas/core/frame.py\u001b[0m in \u001b[0;36m__getitem__\u001b[0;34m(self, key)\u001b[0m\n\u001b[1;32m   3456\u001b[0m             \u001b[0;32mif\u001b[0m \u001b[0mself\u001b[0m\u001b[0;34m.\u001b[0m\u001b[0mcolumns\u001b[0m\u001b[0;34m.\u001b[0m\u001b[0mnlevels\u001b[0m \u001b[0;34m>\u001b[0m \u001b[0;36m1\u001b[0m\u001b[0;34m:\u001b[0m\u001b[0;34m\u001b[0m\u001b[0;34m\u001b[0m\u001b[0m\n\u001b[1;32m   3457\u001b[0m                 \u001b[0;32mreturn\u001b[0m \u001b[0mself\u001b[0m\u001b[0;34m.\u001b[0m\u001b[0m_getitem_multilevel\u001b[0m\u001b[0;34m(\u001b[0m\u001b[0mkey\u001b[0m\u001b[0;34m)\u001b[0m\u001b[0;34m\u001b[0m\u001b[0;34m\u001b[0m\u001b[0m\n\u001b[0;32m-> 3458\u001b[0;31m             \u001b[0mindexer\u001b[0m \u001b[0;34m=\u001b[0m \u001b[0mself\u001b[0m\u001b[0;34m.\u001b[0m\u001b[0mcolumns\u001b[0m\u001b[0;34m.\u001b[0m\u001b[0mget_loc\u001b[0m\u001b[0;34m(\u001b[0m\u001b[0mkey\u001b[0m\u001b[0;34m)\u001b[0m\u001b[0;34m\u001b[0m\u001b[0;34m\u001b[0m\u001b[0m\n\u001b[0m\u001b[1;32m   3459\u001b[0m             \u001b[0;32mif\u001b[0m \u001b[0mis_integer\u001b[0m\u001b[0;34m(\u001b[0m\u001b[0mindexer\u001b[0m\u001b[0;34m)\u001b[0m\u001b[0;34m:\u001b[0m\u001b[0;34m\u001b[0m\u001b[0;34m\u001b[0m\u001b[0m\n\u001b[1;32m   3460\u001b[0m                 \u001b[0mindexer\u001b[0m \u001b[0;34m=\u001b[0m \u001b[0;34m[\u001b[0m\u001b[0mindexer\u001b[0m\u001b[0;34m]\u001b[0m\u001b[0;34m\u001b[0m\u001b[0;34m\u001b[0m\u001b[0m\n",
      "\u001b[0;32m/opt/anaconda3/envs/MyPythonProject/lib/python3.7/site-packages/pandas/core/indexes/base.py\u001b[0m in \u001b[0;36mget_loc\u001b[0;34m(self, key, method, tolerance)\u001b[0m\n\u001b[1;32m   3361\u001b[0m                 \u001b[0;32mreturn\u001b[0m \u001b[0mself\u001b[0m\u001b[0;34m.\u001b[0m\u001b[0m_engine\u001b[0m\u001b[0;34m.\u001b[0m\u001b[0mget_loc\u001b[0m\u001b[0;34m(\u001b[0m\u001b[0mcasted_key\u001b[0m\u001b[0;34m)\u001b[0m\u001b[0;34m\u001b[0m\u001b[0;34m\u001b[0m\u001b[0m\n\u001b[1;32m   3362\u001b[0m             \u001b[0;32mexcept\u001b[0m \u001b[0mKeyError\u001b[0m \u001b[0;32mas\u001b[0m \u001b[0merr\u001b[0m\u001b[0;34m:\u001b[0m\u001b[0;34m\u001b[0m\u001b[0;34m\u001b[0m\u001b[0m\n\u001b[0;32m-> 3363\u001b[0;31m                 \u001b[0;32mraise\u001b[0m \u001b[0mKeyError\u001b[0m\u001b[0;34m(\u001b[0m\u001b[0mkey\u001b[0m\u001b[0;34m)\u001b[0m \u001b[0;32mfrom\u001b[0m \u001b[0merr\u001b[0m\u001b[0;34m\u001b[0m\u001b[0;34m\u001b[0m\u001b[0m\n\u001b[0m\u001b[1;32m   3364\u001b[0m \u001b[0;34m\u001b[0m\u001b[0m\n\u001b[1;32m   3365\u001b[0m         \u001b[0;32mif\u001b[0m \u001b[0mis_scalar\u001b[0m\u001b[0;34m(\u001b[0m\u001b[0mkey\u001b[0m\u001b[0;34m)\u001b[0m \u001b[0;32mand\u001b[0m \u001b[0misna\u001b[0m\u001b[0;34m(\u001b[0m\u001b[0mkey\u001b[0m\u001b[0;34m)\u001b[0m \u001b[0;32mand\u001b[0m \u001b[0;32mnot\u001b[0m \u001b[0mself\u001b[0m\u001b[0;34m.\u001b[0m\u001b[0mhasnans\u001b[0m\u001b[0;34m:\u001b[0m\u001b[0;34m\u001b[0m\u001b[0;34m\u001b[0m\u001b[0m\n",
      "\u001b[0;31mKeyError\u001b[0m: 'country'"
     ]
    }
   ],
   "source": [
    "df['country'] = pd.Categorical(df['country'], categories=df['country'].unique())"
   ]
  },
  {
   "cell_type": "code",
   "execution_count": 104,
   "metadata": {},
   "outputs": [
    {
     "data": {
      "image/png": "[encoded data removed]",
      "text/plain": [
       "<Figure size 432x288 with 1 Axes>"
      ]
     },
     "metadata": {
      "needs_background": "light"
     },
     "output_type": "display_data"
    }
   ],
   "source": [
    "# for country, group in df.groupby('country'):\n",
    "#     fig = group.plot.scatter(y = 'GDP', x = 'elec_rate', title=country)\n",
    "    # fig.figure.savefig(dir_path + str(country))\n",
    "\n",
    "\n",
    "fid = df.plot.scatter(y = 'GDP', x = 'elec_rate')\n",
    "\n",
    "# # Draw Stripplot\n",
    "# fig, ax = plt.subplots(figsize=(16,10), dpi= 80)    \n",
    "# sns.stripplot(df.GDP, df.elec_rate, jitter=0.25, size=8, ax=ax, linewidth=.5)\n",
    "\n",
    "# # Decorations\n",
    "# plt.title('Use jittered plots to avoid overlapping of points', fontsize=22)\n",
    "# plt.show()"
   ]
  },
  {
   "cell_type": "code",
   "execution_count": 52,
   "metadata": {},
   "outputs": [],
   "source": [
    "# with pd.ExcelWriter(gdp,\n",
    "#                     engine='openpyxl',\n",
    "#                     mode='a',\n",
    "#                     if_sheeet_exists=\"overlay\",\n",
    "# ) as writer:\n",
    "#     writer.book = openpyxl.load_workbook(gdp)\n",
    "#     gdp_df.to_excel(writer, sheet_name='GDP_flat')"
   ]
  }
 ],
 "metadata": {
  "interpreter": {
   "hash": "cd239d77895c76b1b0b6aa7af5762016a4c6e6b8e0ec894c7a726779eb4942ae"
  },
  "kernelspec": {
   "display_name": "Python 3.7.13 ('MyPythonProject')",
   "language": "python",
   "name": "python3"
  },
  "language_info": {
   "codemirror_mode": {
    "name": "ipython",
    "version": 3
   },
   "file_extension": ".py",
   "mimetype": "text/x-python",
   "name": "python",
   "nbconvert_exporter": "python",
   "pygments_lexer": "ipython3",
   "version": "3.7.13"
  },
  "orig_nbformat": 4
 },
 "nbformat": 4,
 "nbformat_minor": 2
}
