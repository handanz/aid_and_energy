{
 "cells": [
  {
   "cell_type": "code",
   "execution_count": 9,
   "metadata": {},
   "outputs": [],
   "source": [
    "import os\n",
    "import pandas as pd\n",
    "import openpyxl\n",
    "\n",
    "# Set directory path to current directory\n",
    "dir_path = os.path.abspath('')\n",
    "variable_path = os.path.abspath('../control-variables')\n",
    "\n",
    "dat = os.path.join(dir_path, 'results_v1.xlsx')\n",
    "variable = os.path.join(variable_path, 'inde-variable-data.xlsx')"
   ]
  },
  {
   "cell_type": "code",
   "execution_count": 47,
   "metadata": {},
   "outputs": [],
   "source": [
    "# Import GDP data into dataframe\n",
    "gdp_df = pd.read_excel(variable, index_col=0, sheet_name=\"GDP\")\n",
    "\n",
    "# Fill the empty cells with 0s\n",
    "gdp_df.fillna(0, inplace=True)\n",
    "\n",
    "# Flatten the data\n",
    "gdp_df = gdp_df.stack()\n",
    "\n",
    "# gdp_df = gdp_df.reset_index()\n",
    "\n",
    "# if isinstance(gdp_df.index, pd.MultiIndex):\n",
    "    # print(gdp_df.index)"
   ]
  },
  {
   "cell_type": "code",
   "execution_count": null,
   "metadata": {},
   "outputs": [
    {
     "name": "stderr",
     "output_type": "stream",
     "text": [
      "/opt/anaconda3/envs/MyPythonProject/lib/python3.7/site-packages/ipykernel_launcher.py:4: FutureWarning: Use of **kwargs is deprecated, use engine_kwargs instead.\n",
      "  after removing the cwd from sys.path.\n"
     ]
    }
   ],
   "source": [
    "# Export the flattened GDP data to an excel sheet\n",
    "with pd.ExcelWriter(variable,\n",
    "                    engine='openpyxl',\n",
    "                    mode='a',\n",
    "                    if_sheeet_exists=\"overlay\",\n",
    ") as writer:\n",
    "    writer.book = openpyxl.load_workbook(variable)\n",
    "    gdp_df.to_excel(writer, sheet_name='GDP_flat')"
   ]
  },
  {
   "cell_type": "code",
   "execution_count": 48,
   "metadata": {},
   "outputs": [],
   "source": [
    "# Import flattened GDP data into dataframe\n",
    "gdp_df = pd.read_excel(variable, index_col=0, sheet_name=\"GDP_flat\")\n",
    "\n",
    "gdp_df.index = pd.Series(gdp_df.index).fillna(method='ffill')\n",
    "\n",
    "# Sort the dataframe by country names\n",
    "gdp_df = gdp_df.sort_values([\"country\", \"year\"], ascending=True)"
   ]
  },
  {
   "cell_type": "code",
   "execution_count": 67,
   "metadata": {},
   "outputs": [
    {
     "name": "stderr",
     "output_type": "stream",
     "text": [
      "/opt/anaconda3/envs/MyPythonProject/lib/python3.7/site-packages/ipykernel_launcher.py:5: FutureWarning: Use of **kwargs is deprecated, use engine_kwargs instead.\n",
      "  \"\"\"\n"
     ]
    }
   ],
   "source": [
    "# Export the flattened GDP data to an excel sheet\n",
    "with pd.ExcelWriter(variable,\n",
    "                    engine='openpyxl',\n",
    "                    mode='a',\n",
    "                    if_sheeet_exists=\"overlay\",\n",
    ") as writer:\n",
    "    writer.book = openpyxl.load_workbook(variable)\n",
    "    gdp_df.to_excel(writer, sheet_name='GDP_flat')"
   ]
  },
  {
   "cell_type": "code",
   "execution_count": 4,
   "metadata": {},
   "outputs": [],
   "source": [
    "# Import the foreign aid data into the dataframe\n",
    "df = pd.read_excel(dat, index_col=0, sheet_name=\"full_data\")"
   ]
  },
  {
   "cell_type": "code",
   "execution_count": 5,
   "metadata": {},
   "outputs": [],
   "source": [
    "df['Policy%'] = df['Energy Policy']/df['gdp']/10000\n",
    "\n",
    "df['Distribution%'] = df['Energy distribution']/df['gdp']/10000\n",
    "\n",
    "df['Nonrenewable generation%'] = df['Energy generation, non-renewable sources']/df['gdp']/10000\n",
    "\n",
    "df['Renewable generation%'] = df['Energy generation, renewable sources']/df['gdp']/10000"
   ]
  },
  {
   "cell_type": "code",
   "execution_count": 7,
   "metadata": {},
   "outputs": [
    {
     "name": "stderr",
     "output_type": "stream",
     "text": [
      "/opt/anaconda3/envs/MyPythonProject/lib/python3.7/site-packages/ipykernel_launcher.py:5: FutureWarning: Use of **kwargs is deprecated, use engine_kwargs instead.\n",
      "  \"\"\"\n"
     ]
    }
   ],
   "source": [
    "# Write the standarized data to excel file\n",
    "with pd.ExcelWriter(dat,\n",
    "                    engine='openpyxl',\n",
    "                    mode='a',\n",
    "                    if_sheeet_exists=\"overlay\",\n",
    ") as writer:\n",
    "    writer.book = openpyxl.load_workbook(dat)\n",
    "    df.to_excel(writer, sheet_name='standarized data')"
   ]
  },
  {
   "cell_type": "code",
   "execution_count": 10,
   "metadata": {},
   "outputs": [
    {
     "ename": "NotImplementedError",
     "evalue": "initializing a Series from a MultiIndex is not supported",
     "output_type": "error",
     "traceback": [
      "\u001b[0;31m---------------------------------------------------------------------------\u001b[0m",
      "\u001b[0;31mNotImplementedError\u001b[0m                       Traceback (most recent call last)",
      "\u001b[0;32m/var/folders/m9/pw7wynfx3mzbspsn6nvytb2c0000gn/T/ipykernel_31478/2861829367.py\u001b[0m in \u001b[0;36m<module>\u001b[0;34m\u001b[0m\n\u001b[1;32m      3\u001b[0m \u001b[0mgdp_cap\u001b[0m \u001b[0;34m=\u001b[0m \u001b[0mgdp_cap\u001b[0m\u001b[0;34m.\u001b[0m\u001b[0mstack\u001b[0m\u001b[0;34m(\u001b[0m\u001b[0;34m)\u001b[0m\u001b[0;34m\u001b[0m\u001b[0;34m\u001b[0m\u001b[0m\n\u001b[1;32m      4\u001b[0m \u001b[0;34m\u001b[0m\u001b[0m\n\u001b[0;32m----> 5\u001b[0;31m \u001b[0mgdp_cap\u001b[0m\u001b[0;34m.\u001b[0m\u001b[0mindex\u001b[0m \u001b[0;34m=\u001b[0m \u001b[0mpd\u001b[0m\u001b[0;34m.\u001b[0m\u001b[0mSeries\u001b[0m\u001b[0;34m(\u001b[0m\u001b[0mgdp_cap\u001b[0m\u001b[0;34m.\u001b[0m\u001b[0mindex\u001b[0m\u001b[0;34m)\u001b[0m\u001b[0;34m.\u001b[0m\u001b[0mfillna\u001b[0m\u001b[0;34m(\u001b[0m\u001b[0mmethod\u001b[0m\u001b[0;34m=\u001b[0m\u001b[0;34m'ffill'\u001b[0m\u001b[0;34m)\u001b[0m\u001b[0;34m\u001b[0m\u001b[0;34m\u001b[0m\u001b[0m\n\u001b[0m\u001b[1;32m      6\u001b[0m \u001b[0;34m\u001b[0m\u001b[0m\n\u001b[1;32m      7\u001b[0m \u001b[0;31m# Fill the empty cells with 0s\u001b[0m\u001b[0;34m\u001b[0m\u001b[0;34m\u001b[0m\u001b[0;34m\u001b[0m\u001b[0m\n",
      "\u001b[0;32m/opt/anaconda3/envs/MyPythonProject/lib/python3.7/site-packages/pandas/core/series.py\u001b[0m in \u001b[0;36m__init__\u001b[0;34m(self, data, index, dtype, name, copy, fastpath)\u001b[0m\n\u001b[1;32m    375\u001b[0m             \u001b[0;32mif\u001b[0m \u001b[0misinstance\u001b[0m\u001b[0;34m(\u001b[0m\u001b[0mdata\u001b[0m\u001b[0;34m,\u001b[0m \u001b[0mMultiIndex\u001b[0m\u001b[0;34m)\u001b[0m\u001b[0;34m:\u001b[0m\u001b[0;34m\u001b[0m\u001b[0;34m\u001b[0m\u001b[0m\n\u001b[1;32m    376\u001b[0m                 raise NotImplementedError(\n\u001b[0;32m--> 377\u001b[0;31m                     \u001b[0;34m\"initializing a Series from a MultiIndex is not supported\"\u001b[0m\u001b[0;34m\u001b[0m\u001b[0;34m\u001b[0m\u001b[0m\n\u001b[0m\u001b[1;32m    378\u001b[0m                 )\n\u001b[1;32m    379\u001b[0m             \u001b[0;32melif\u001b[0m \u001b[0misinstance\u001b[0m\u001b[0;34m(\u001b[0m\u001b[0mdata\u001b[0m\u001b[0;34m,\u001b[0m \u001b[0mIndex\u001b[0m\u001b[0;34m)\u001b[0m\u001b[0;34m:\u001b[0m\u001b[0;34m\u001b[0m\u001b[0;34m\u001b[0m\u001b[0m\n",
      "\u001b[0;31mNotImplementedError\u001b[0m: initializing a Series from a MultiIndex is not supported"
     ]
    }
   ],
   "source": [
    "gdp_cap = pd.read_excel(variable, index_col=0, sheet_name=\"dGDP\")\n",
    "gdp_cap.fillna(0, inplace=True)\n",
    "gdp_cap = gdp_cap.stack()\n",
    "\n",
    "gdp_cap.index = pd.Series(gdp_cap.index).fillna(method='ffill')\n",
    "\n",
    "# Fill the empty cells with 0s\n",
    "\n",
    "\n",
    "print(gdp_cap)"
   ]
  }
 ],
 "metadata": {
  "interpreter": {
   "hash": "cd239d77895c76b1b0b6aa7af5762016a4c6e6b8e0ec894c7a726779eb4942ae"
  },
  "kernelspec": {
   "display_name": "Python 3.7.13 ('MyPythonProject')",
   "language": "python",
   "name": "python3"
  },
  "language_info": {
   "codemirror_mode": {
    "name": "ipython",
    "version": 3
   },
   "file_extension": ".py",
   "mimetype": "text/x-python",
   "name": "python",
   "nbconvert_exporter": "python",
   "pygments_lexer": "ipython3",
   "version": "3.7.13"
  },
  "orig_nbformat": 4
 },
 "nbformat": 4,
 "nbformat_minor": 2
}
