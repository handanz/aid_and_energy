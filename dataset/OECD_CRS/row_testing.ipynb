{
 "cells": [
  {
   "cell_type": "code",
   "execution_count": 22,
   "metadata": {},
   "outputs": [],
   "source": [
    "import os\n",
    "import pandas as pd\n",
    "import openpyxl\n",
    "\n",
    "dir_path = os.path.abspath('')\n",
    "data = os.path.join(dir_path, 'test_data.xlsx')"
   ]
  },
  {
   "cell_type": "code",
   "execution_count": 27,
   "metadata": {},
   "outputs": [
    {
     "name": "stdout",
     "output_type": "stream",
     "text": [
      "[2001, 2002, 2003, 2004, 2005, ..., 2004, 2005, 2006, 2007, 2008]\n",
      "Length: 62\n",
      "Categories (8, int64): [2001, 2002, 2003, 2004, 2005, 2008, 2007, 2006]\n"
     ]
    }
   ],
   "source": [
    "data_df = pd.read_excel(data, sheet_name=\"row_data\")\n",
    "data_df.index = pd.Series(data_df.index).fillna(method='ffill')\n",
    "\n",
    "data_df['year_name'] = pd.Categorical(data_df['year_name'], categories=data_df['year_name'].unique())\n",
    "\n",
    "\n",
    "complete_data = data_df.groupby(['recipient_name', 'year_name'], as_index=False).first()"
   ]
  }
 ],
 "metadata": {
  "interpreter": {
   "hash": "cd239d77895c76b1b0b6aa7af5762016a4c6e6b8e0ec894c7a726779eb4942ae"
  },
  "kernelspec": {
   "display_name": "Python 3.7.11 ('MyPythonProject')",
   "language": "python",
   "name": "python3"
  },
  "language_info": {
   "codemirror_mode": {
    "name": "ipython",
    "version": 3
   },
   "file_extension": ".py",
   "mimetype": "text/x-python",
   "name": "python",
   "nbconvert_exporter": "python",
   "pygments_lexer": "ipython3",
   "version": "3.7.13"
  },
  "orig_nbformat": 4
 },
 "nbformat": 4,
 "nbformat_minor": 2
}
